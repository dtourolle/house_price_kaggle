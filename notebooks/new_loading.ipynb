{
 "cells": [
  {
   "cell_type": "code",
   "execution_count": 20,
   "metadata": {},
   "outputs": [
    {
     "name": "stderr",
     "output_type": "stream",
     "text": [
      "/home/duncan/.local/lib/python3.7/site-packages/ipykernel_launcher.py:3: YAMLLoadWarning: calling yaml.load() without Loader=... is deprecated, as the default Loader is unsafe. Please read https://msg.pyyaml.org/load for full details.\n",
      "  This is separate from the ipykernel package so we can avoid doing imports until\n"
     ]
    }
   ],
   "source": [
    "import yaml\n",
    "with open('../data/data_desription.yaml', 'r') as stream:   # 'document.yaml' contains a single YAML document.\n",
    "    meta=yaml.load(stream)"
   ]
  },
  {
   "cell_type": "code",
   "execution_count": 5,
   "metadata": {},
   "outputs": [
    {
     "data": {
      "text/plain": [
       "78"
      ]
     },
     "execution_count": 5,
     "metadata": {},
     "output_type": "execute_result"
    }
   ],
   "source": [
    "len(meta)"
   ]
  },
  {
   "cell_type": "code",
   "execution_count": null,
   "metadata": {},
   "outputs": [],
   "source": []
  },
  {
   "cell_type": "code",
   "execution_count": 6,
   "metadata": {},
   "outputs": [],
   "source": [
    "cat_to_ord={'NA':0,'Po':1,'Fa':2,'TA':3,'Gd':4,'Ex':5, 'No':1,'Mn':2,'Av':3,'Unf':1,'LwQ':2,'Rec':3,'BLQ':4,'ALQ':5,'GLQ':6}"
   ]
  },
  {
   "cell_type": "code",
   "execution_count": 7,
   "metadata": {},
   "outputs": [],
   "source": [
    "%matplotlib widget\n",
    "import matplotlib.pyplot as plt\n",
    "import pandas as pd \n",
    "import numpy as np"
   ]
  },
  {
   "cell_type": "code",
   "execution_count": 8,
   "metadata": {},
   "outputs": [],
   "source": [
    "data = pd.read_csv(\"../data/train.csv\",keep_default_na=False) \n",
    "\n",
    "data.sort_values(by=['YrSold'], inplace=True, ascending=True)"
   ]
  },
  {
   "cell_type": "code",
   "execution_count": 21,
   "metadata": {},
   "outputs": [],
   "source": [
    "new_data={}\n",
    "for name,m in meta.items():\n",
    "    new_data[name]=methods.get(m.get('methods'))(data[name])"
   ]
  },
  {
   "cell_type": "code",
   "execution_count": 10,
   "metadata": {},
   "outputs": [],
   "source": [
    "def Ordinal(data):\n",
    "    out=[]\n",
    "    return [cat_to_ord[d] for d in data]"
   ]
  },
  {
   "cell_type": "code",
   "execution_count": 9,
   "metadata": {},
   "outputs": [],
   "source": [
    "def OneHot(column,name):\n",
    "    temp = pd.get_dummies(column)\n",
    "    return {name+'_'+str(col):temp[col].values for col in temp }"
   ]
  },
  {
   "cell_type": "code",
   "execution_count": 14,
   "metadata": {},
   "outputs": [],
   "source": [
    "def numerical(data):\n",
    "    return np.array(data)"
   ]
  },
  {
   "cell_type": "code",
   "execution_count": 15,
   "metadata": {},
   "outputs": [],
   "source": [
    "methods={'OneHot':OneHot,'Ordinal':Ordinal,None:numerical}"
   ]
  },
  {
   "cell_type": "code",
   "execution_count": 22,
   "metadata": {},
   "outputs": [
    {
     "data": {
      "text/plain": [
       "{'MSSubClass': array([ 60, 160,  20, ...,  20,  60,  50]),\n",
       " 'MSZoning': array(['RL', 'RM', 'FV', ..., 'RL', 'FV', 'RL'], dtype=object),\n",
       " 'LotFrontage': array(['65', '21', '60', ..., '95', '100', '50'], dtype=object),\n",
       " 'LotArea': array([ 7153,  1680,  7200, ..., 12182, 12552,  9638]),\n",
       " 'Street': array(['Pave', 'Pave', 'Pave', ..., 'Pave', 'Pave', 'Pave'], dtype=object),\n",
       " 'Alley': array(['NA', 'NA', 'Pave', ..., 'NA', 'NA', 'NA'], dtype=object),\n",
       " 'LotShape': array(['Reg', 'Reg', 'Reg', ..., 'Reg', 'Reg', 'Reg'], dtype=object),\n",
       " 'LandContour': array(['Lvl', 'Lvl', 'Lvl', ..., 'Lvl', 'Lvl', 'Lvl'], dtype=object),\n",
       " 'Utilities': array(['AllPub', 'AllPub', 'AllPub', ..., 'AllPub', 'AllPub', 'AllPub'],\n",
       "       dtype=object),\n",
       " 'LotConfig': array(['Inside', 'Inside', 'Inside', ..., 'Corner', 'Corner', 'Inside'],\n",
       "       dtype=object),\n",
       " 'LandSlope': array(['Gtl', 'Gtl', 'Gtl', ..., 'Gtl', 'Gtl', 'Gtl'], dtype=object),\n",
       " 'Neighborhood': array(['SawyerW', 'BrDale', 'Somerst', ..., 'NridgHt', 'Somerst', 'SWISU'],\n",
       "       dtype=object),\n",
       " 'Condition1': array(['Norm', 'Norm', 'Norm', ..., 'Norm', 'Norm', 'Feedr'], dtype=object),\n",
       " 'Condition2': array(['Norm', 'Norm', 'Norm', ..., 'Norm', 'Norm', 'Norm'], dtype=object),\n",
       " 'BldgType': array(['1Fam', 'Twnhs', '1Fam', ..., '1Fam', '1Fam', '1Fam'], dtype=object),\n",
       " 'HouseStyle': array(['2Story', '2Story', '1Story', ..., '1Story', '2Story', '1.5Fin'],\n",
       "       dtype=object),\n",
       " 'OverallQual': array([6, 6, 6, ..., 7, 7, 6]),\n",
       " 'OverallCond': array([5, 5, 5, ..., 5, 5, 7]),\n",
       " 'YearBuilt': array([1992, 1971, 2006, ..., 2005, 2004, 1919]),\n",
       " 'YearRemodAdd': array([1992, 1971, 2006, ..., 2005, 2005, 1990]),\n",
       " 'RoofStyle': array(['Gable', 'Gable', 'Gable', ..., 'Gable', 'Gable', 'Gable'],\n",
       "       dtype=object),\n",
       " 'RoofMatl': array(['CompShg', 'CompShg', 'CompShg', ..., 'CompShg', 'CompShg',\n",
       "        'CompShg'], dtype=object),\n",
       " 'Exterior1st': array(['VinylSd', 'CemntBd', 'VinylSd', ..., 'VinylSd', 'VinylSd',\n",
       "        'Wd Sdng'], dtype=object),\n",
       " 'Exterior2nd': array(['VinylSd', 'CmentBd', 'VinylSd', ..., 'VinylSd', 'VinylSd',\n",
       "        'Wd Shng'], dtype=object),\n",
       " 'MasVnrType': array(['None', 'BrkFace', 'Stone', ..., 'BrkFace', 'None', 'None'],\n",
       "       dtype=object),\n",
       " 'MasVnrArea': array(['0', '236', '68', ..., '226', '0', '0'], dtype=object),\n",
       " 'ExterQual': array(['Gd', 'TA', 'Gd', ..., 'Gd', 'Gd', 'TA'], dtype=object),\n",
       " 'ExterCond': array(['Gd', 'TA', 'TA', ..., 'TA', 'TA', 'TA'], dtype=object),\n",
       " 'Foundation': array(['PConc', 'CBlock', 'PConc', ..., 'PConc', 'PConc', 'PConc'],\n",
       "       dtype=object),\n",
       " 'BsmtQual': array(['Gd', 'TA', 'Gd', ..., 'Gd', 'Gd', 'TA'], dtype=object),\n",
       " 'BsmtCond': array(['TA', 'TA', 'TA', ..., 'TA', 'TA', 'TA'], dtype=object),\n",
       " 'BsmtExposure': array(['No', 'No', 'No', ..., 'Mn', 'No', 'No'], dtype=object),\n",
       " 'BsmtFinType1': array(['ALQ', 'Unf', 'GLQ', ..., 'BLQ', 'GLQ', 'Unf'], dtype=object),\n",
       " 'BsmtFinSF1': array([ 387,    0,  905, ..., 1201,  222,    0]),\n",
       " 'BsmtFinType2': array(['Unf', 'Unf', 'Unf', ..., 'Unf', 'Unf', 'Unf'], dtype=object),\n",
       " 'BsmtFinSF2': array([0, 0, 0, ..., 0, 0, 0]),\n",
       " 'BsmtUnfSF': array([374, 672, 357, ..., 340, 769, 804]),\n",
       " 'TotalBsmtSF': array([ 761,  672, 1262, ..., 1541,  991,  804]),\n",
       " 'Heating': array(['GasA', 'GasA', 'GasA', ..., 'GasA', 'GasA', 'GasA'], dtype=object),\n",
       " 'CentralAir': array(['Y', 'Y', 'Y', ..., 'Y', 'Y', 'Y'], dtype=object),\n",
       " 'Electrical': array(['SBrkr', 'SBrkr', 'SBrkr', ..., 'SBrkr', 'SBrkr', 'SBrkr'],\n",
       "       dtype=object),\n",
       " '1stFlrSF': array([ 810,  672, 1262, ..., 1541,  991, 1699]),\n",
       " '2ndFlrSF': array([793, 546,   0, ...,   0, 956, 748]),\n",
       " 'LowQualFinSF': array([0, 0, 0, ..., 0, 0, 0]),\n",
       " 'GrLivArea': array([1603, 1218, 1262, ..., 1541, 1947, 2447]),\n",
       " 'BsmtFullBath': array([0, 0, 0, ..., 0, 0, 0]),\n",
       " 'BsmtHalfBath': array([0, 0, 0, ..., 0, 0, 0]),\n",
       " 'FullBath': array([2, 1, 2, ..., 2, 2, 2]),\n",
       " 'HalfBath': array([1, 1, 0, ..., 0, 1, 0]),\n",
       " 'BedroomAbvGr': array([3, 3, 2, ..., 3, 3, 4]),\n",
       " 'KitchenAbvGr': array([1, 1, 1, ..., 1, 1, 1]),\n",
       " 'KitchenQual': array(['Gd', 'TA', 'Gd', ..., 'Gd', 'Gd', 'Gd'], dtype=object),\n",
       " 'TotRmsAbvGrd': array([ 7,  7,  5, ...,  7,  8, 10]),\n",
       " 'Functional': array(['Typ', 'Typ', 'Typ', ..., 'Typ', 'Typ', 'Min2'], dtype=object),\n",
       " 'Fireplaces': array([0, 0, 0, ..., 1, 1, 1]),\n",
       " 'FireplaceQu': array(['NA', 'NA', 'NA', ..., 'Gd', 'Gd', 'Gd'], dtype=object),\n",
       " 'GarageType': array(['Attchd', 'NA', 'Attchd', ..., 'Attchd', 'Attchd', 'Detchd'],\n",
       "       dtype=object),\n",
       " 'GarageYrBlt': array(['1992', 'NA', '2006', ..., '2005', '2004', '1969'], dtype=object),\n",
       " 'GarageFinish': array(['RFn', 'NA', 'Fin', ..., 'RFn', 'RFn', 'Unf'], dtype=object),\n",
       " 'GarageCars': array([2, 0, 2, ..., 2, 2, 1]),\n",
       " 'GarageArea': array([484,   0, 572, ..., 532, 678, 336]),\n",
       " 'GarageQual': array(['TA', 'NA', 'TA', ..., 'TA', 'TA', 'TA'], dtype=object),\n",
       " 'GarageCond': array(['TA', 'NA', 'TA', ..., 'TA', 'TA', 'TA'], dtype=object),\n",
       " 'PavedDrive': array(['Y', 'N', 'Y', ..., 'Y', 'Y', 'Y'], dtype=object),\n",
       " 'WoodDeckSF': array([  0, 201,   0, ...,   0,   0, 272]),\n",
       " 'OpenPorchSF': array([124,   0, 120, ...,  70, 136,   0]),\n",
       " 'EnclosedPorch': array([ 0,  0,  0, ...,  0,  0, 42]),\n",
       " '3SsnPorch': array([0, 0, 0, ..., 0, 0, 0]),\n",
       " 'ScreenPorch': array([  0,   0,   0, ...,   0,   0, 116]),\n",
       " 'PoolArea': array([0, 0, 0, ..., 0, 0, 0]),\n",
       " 'PoolQC': array(['NA', 'NA', 'NA', ..., 'NA', 'NA', 'NA'], dtype=object),\n",
       " 'Fence': array(['NA', 'NA', 'NA', ..., 'NA', 'GdWo', 'NA'], dtype=object),\n",
       " 'MiscFeature': array(['NA', 'NA', 'NA', ..., 'NA', 'NA', 'NA'], dtype=object),\n",
       " 'MiscVal': array([0, 0, 0, ..., 0, 0, 0]),\n",
       " 'MoSold': array([7, 4, 5, ..., 5, 5, 3]),\n",
       " 'YrSold': array([2006, 2006, 2006, ..., 2010, 2010, 2010]),\n",
       " 'SaleType': array(['WD', 'WD', 'New', ..., 'New', 'WD', 'WD'], dtype=object),\n",
       " 'SaleCondition': array(['Normal', 'Abnorml', 'Partial', ..., 'Partial', 'Normal', 'Normal'],\n",
       "       dtype=object)}"
      ]
     },
     "execution_count": 22,
     "metadata": {},
     "output_type": "execute_result"
    }
   ],
   "source": [
    "new_data"
   ]
  },
  {
   "cell_type": "code",
   "execution_count": null,
   "metadata": {},
   "outputs": [],
   "source": []
  }
 ],
 "metadata": {
  "kernelspec": {
   "display_name": "Python 3",
   "language": "python",
   "name": "python3"
  },
  "language_info": {
   "codemirror_mode": {
    "name": "ipython",
    "version": 3
   },
   "file_extension": ".py",
   "mimetype": "text/x-python",
   "name": "python",
   "nbconvert_exporter": "python",
   "pygments_lexer": "ipython3",
   "version": "3.7.3"
  }
 },
 "nbformat": 4,
 "nbformat_minor": 4
}
