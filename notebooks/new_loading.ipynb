{
 "cells": [
  {
   "cell_type": "code",
   "execution_count": 15,
   "metadata": {},
   "outputs": [],
   "source": [
    "import yaml\n",
    "with open('../data/data_desription.yaml', 'r') as stream:   # 'document.yaml' contains a single YAML document.\n",
    "    meta=yaml.load(stream)"
   ]
  },
  {
   "cell_type": "code",
   "execution_count": 2,
   "metadata": {},
   "outputs": [
    {
     "output_type": "execute_result",
     "data": {
      "text/plain": [
       "78"
      ]
     },
     "metadata": {},
     "execution_count": 2
    }
   ],
   "source": [
    "len(meta)"
   ]
  },
  {
   "cell_type": "code",
   "execution_count": 3,
   "metadata": {},
   "outputs": [],
   "source": [
    "cat_to_ord={'nan':0,'NA':0,'Po':1,'Fa':2,'TA':3,'Gd':4,'Ex':5, 'No':1,'Mn':2,'Av':3,'Unf':1,'LwQ':2,'Rec':3,'BLQ':4,'ALQ':5,'GLQ':6}"
   ]
  },
  {
   "cell_type": "code",
   "execution_count": 4,
   "metadata": {},
   "outputs": [],
   "source": [
    "%matplotlib widget\n",
    "import matplotlib.pyplot as plt\n",
    "import pandas as pd \n",
    "import numpy as np"
   ]
  },
  {
   "cell_type": "code",
   "execution_count": 5,
   "metadata": {},
   "outputs": [],
   "source": [
    "data = pd.read_csv(\"../data/train.csv\")#to_numeric \n",
    "data.sort_values(by=['YrSold'], inplace=True, ascending=True)"
   ]
  },
  {
   "cell_type": "code",
   "execution_count": 6,
   "metadata": {},
   "outputs": [
    {
     "output_type": "execute_result",
     "data": {
      "text/plain": [
       "array([  0., 236.,  68., ..., 226.,   0.,   0.])"
      ]
     },
     "metadata": {},
     "execution_count": 6
    }
   ],
   "source": [
    "np.array(data['MasVnrArea'])"
   ]
  },
  {
   "cell_type": "code",
   "execution_count": 19,
   "metadata": {},
   "outputs": [
    {
     "output_type": "stream",
     "name": "stdout",
     "text": [
      "MasVnrArea\nGarageYrBlt\nGarageCars\nGarageQual\n"
     ]
    }
   ],
   "source": [
    "new_data={}\n",
    "for name,m in meta.items():\n",
    "\n",
    "    if m.get('type') == 'categorical':\n",
    "        d = methods.get(m.get('method'))(data[name],name)\n",
    "        if type(d) == dict:\n",
    "            \n",
    "            new_data = {**new_data, **d}\n",
    "        else:\n",
    "            new_data[name]=d\n",
    "\n",
    "        \n",
    "    if m.get('type') == 'numerical':\n",
    "        new_data[name]=np.array(pd.to_numeric(data[name]))\n",
    "    if m.get('NaNis') == 'median':\n",
    "        print(name)\n",
    "        \n",
    "        new_data[name][np.isnan(new_data[name])] = np.median(new_data[name][np.isnan(new_data[name])==False])\n",
    "    if m.get('NaNis') == 'mean':\n",
    "        new_data[name]=np.array(pd.to_numeric(data[name]))\n",
    "        new_data[name][np.isnan(new_data[name])] = np.mean(new_data[name][np.isnan(new_data[name])==False]) \n",
    "    if m.get('NaNis') == 0:\n",
    "        new_data[name]=np.array(pd.to_numeric(data[name]))\n",
    "        new_data[name][np.isnan(new_data[name])] = 0\n",
    "    "
   ]
  },
  {
   "cell_type": "code",
   "execution_count": 8,
   "metadata": {},
   "outputs": [],
   "source": [
    "def Ordinal(data,name):\n",
    "    out=np.array([cat_to_ord.get(d,np.NaN) for d in data])\n",
    "    out[np.isnan(out)]=np.median(out)\n",
    "    return out"
   ]
  },
  {
   "cell_type": "code",
   "execution_count": 9,
   "metadata": {},
   "outputs": [],
   "source": [
    "def OneHot(column,name):\n",
    "    temp = pd.get_dummies(column)\n",
    "\n",
    "    return {name+'_'+str(col):temp[col].values for col in temp }"
   ]
  },
  {
   "cell_type": "code",
   "execution_count": 10,
   "metadata": {},
   "outputs": [],
   "source": [
    "def numerical(data,name):\n",
    "    return np.array(data)"
   ]
  },
  {
   "cell_type": "code",
   "execution_count": 11,
   "metadata": {},
   "outputs": [],
   "source": [
    "methods={'OneHot':OneHot,'Ordinal':Ordinal,None:numerical}"
   ]
  },
  {
   "cell_type": "code",
   "execution_count": 13,
   "metadata": {},
   "outputs": [
    {
     "output_type": "execute_result",
     "data": {
      "text/plain": [
       "{'MSSubClass_20': array([0, 0, 1, ..., 1, 0, 0], dtype=uint8),\n",
       " 'MSSubClass_30': array([0, 0, 0, ..., 0, 0, 0], dtype=uint8),\n",
       " 'MSSubClass_40': array([0, 0, 0, ..., 0, 0, 0], dtype=uint8),\n",
       " 'MSSubClass_45': array([0, 0, 0, ..., 0, 0, 0], dtype=uint8),\n",
       " 'MSSubClass_50': array([0, 0, 0, ..., 0, 0, 1], dtype=uint8),\n",
       " 'MSSubClass_60': array([1, 0, 0, ..., 0, 1, 0], dtype=uint8),\n",
       " 'MSSubClass_70': array([0, 0, 0, ..., 0, 0, 0], dtype=uint8),\n",
       " 'MSSubClass_75': array([0, 0, 0, ..., 0, 0, 0], dtype=uint8),\n",
       " 'MSSubClass_80': array([0, 0, 0, ..., 0, 0, 0], dtype=uint8),\n",
       " 'MSSubClass_85': array([0, 0, 0, ..., 0, 0, 0], dtype=uint8),\n",
       " 'MSSubClass_90': array([0, 0, 0, ..., 0, 0, 0], dtype=uint8),\n",
       " 'MSSubClass_120': array([0, 0, 0, ..., 0, 0, 0], dtype=uint8),\n",
       " 'MSSubClass_160': array([0, 1, 0, ..., 0, 0, 0], dtype=uint8),\n",
       " 'MSSubClass_180': array([0, 0, 0, ..., 0, 0, 0], dtype=uint8),\n",
       " 'MSSubClass_190': array([0, 0, 0, ..., 0, 0, 0], dtype=uint8),\n",
       " 'MSZoning_C (all)': array([0, 0, 0, ..., 0, 0, 0], dtype=uint8),\n",
       " 'MSZoning_FV': array([0, 0, 1, ..., 0, 1, 0], dtype=uint8),\n",
       " 'MSZoning_RH': array([0, 0, 0, ..., 0, 0, 0], dtype=uint8),\n",
       " 'MSZoning_RL': array([1, 0, 0, ..., 1, 0, 1], dtype=uint8),\n",
       " 'MSZoning_RM': array([0, 1, 0, ..., 0, 0, 0], dtype=uint8),\n",
       " 'LotFrontage': array([ 65.,  21.,  60., ...,  95., 100.,  50.]),\n",
       " 'LotArea': array([ 7153,  1680,  7200, ..., 12182, 12552,  9638]),\n",
       " 'Street_Grvl': array([0, 0, 0, ..., 0, 0, 0], dtype=uint8),\n",
       " 'Street_Pave': array([1, 1, 1, ..., 1, 1, 1], dtype=uint8),\n",
       " 'Alley_Grvl': array([0, 0, 0, ..., 0, 0, 0], dtype=uint8),\n",
       " 'Alley_Pave': array([0, 0, 1, ..., 0, 0, 0], dtype=uint8),\n",
       " 'LotShape_IR1': array([0, 0, 0, ..., 0, 0, 0], dtype=uint8),\n",
       " 'LotShape_IR2': array([0, 0, 0, ..., 0, 0, 0], dtype=uint8),\n",
       " 'LotShape_IR3': array([0, 0, 0, ..., 0, 0, 0], dtype=uint8),\n",
       " 'LotShape_Reg': array([1, 1, 1, ..., 1, 1, 1], dtype=uint8),\n",
       " 'LandContour_Bnk': array([0, 0, 0, ..., 0, 0, 0], dtype=uint8),\n",
       " 'LandContour_HLS': array([0, 0, 0, ..., 0, 0, 0], dtype=uint8),\n",
       " 'LandContour_Low': array([0, 0, 0, ..., 0, 0, 0], dtype=uint8),\n",
       " 'LandContour_Lvl': array([1, 1, 1, ..., 1, 1, 1], dtype=uint8),\n",
       " 'Utilities_AllPub': array([1, 1, 1, ..., 1, 1, 1], dtype=uint8),\n",
       " 'Utilities_NoSeWa': array([0, 0, 0, ..., 0, 0, 0], dtype=uint8),\n",
       " 'LotConfig_Corner': array([0, 0, 0, ..., 1, 1, 0], dtype=uint8),\n",
       " 'LotConfig_CulDSac': array([0, 0, 0, ..., 0, 0, 0], dtype=uint8),\n",
       " 'LotConfig_FR2': array([0, 0, 0, ..., 0, 0, 0], dtype=uint8),\n",
       " 'LotConfig_FR3': array([0, 0, 0, ..., 0, 0, 0], dtype=uint8),\n",
       " 'LotConfig_Inside': array([1, 1, 1, ..., 0, 0, 1], dtype=uint8),\n",
       " 'LandSlope_Gtl': array([1, 1, 1, ..., 1, 1, 1], dtype=uint8),\n",
       " 'LandSlope_Mod': array([0, 0, 0, ..., 0, 0, 0], dtype=uint8),\n",
       " 'LandSlope_Sev': array([0, 0, 0, ..., 0, 0, 0], dtype=uint8),\n",
       " 'Neighborhood_Blmngtn': array([0, 0, 0, ..., 0, 0, 0], dtype=uint8),\n",
       " 'Neighborhood_Blueste': array([0, 0, 0, ..., 0, 0, 0], dtype=uint8),\n",
       " 'Neighborhood_BrDale': array([0, 1, 0, ..., 0, 0, 0], dtype=uint8),\n",
       " 'Neighborhood_BrkSide': array([0, 0, 0, ..., 0, 0, 0], dtype=uint8),\n",
       " 'Neighborhood_ClearCr': array([0, 0, 0, ..., 0, 0, 0], dtype=uint8),\n",
       " 'Neighborhood_CollgCr': array([0, 0, 0, ..., 0, 0, 0], dtype=uint8),\n",
       " 'Neighborhood_Crawfor': array([0, 0, 0, ..., 0, 0, 0], dtype=uint8),\n",
       " 'Neighborhood_Edwards': array([0, 0, 0, ..., 0, 0, 0], dtype=uint8),\n",
       " 'Neighborhood_Gilbert': array([0, 0, 0, ..., 0, 0, 0], dtype=uint8),\n",
       " 'Neighborhood_IDOTRR': array([0, 0, 0, ..., 0, 0, 0], dtype=uint8),\n",
       " 'Neighborhood_MeadowV': array([0, 0, 0, ..., 0, 0, 0], dtype=uint8),\n",
       " 'Neighborhood_Mitchel': array([0, 0, 0, ..., 0, 0, 0], dtype=uint8),\n",
       " 'Neighborhood_NAmes': array([0, 0, 0, ..., 0, 0, 0], dtype=uint8),\n",
       " 'Neighborhood_NPkVill': array([0, 0, 0, ..., 0, 0, 0], dtype=uint8),\n",
       " 'Neighborhood_NWAmes': array([0, 0, 0, ..., 0, 0, 0], dtype=uint8),\n",
       " 'Neighborhood_NoRidge': array([0, 0, 0, ..., 0, 0, 0], dtype=uint8),\n",
       " 'Neighborhood_NridgHt': array([0, 0, 0, ..., 1, 0, 0], dtype=uint8),\n",
       " 'Neighborhood_OldTown': array([0, 0, 0, ..., 0, 0, 0], dtype=uint8),\n",
       " 'Neighborhood_SWISU': array([0, 0, 0, ..., 0, 0, 1], dtype=uint8),\n",
       " 'Neighborhood_Sawyer': array([0, 0, 0, ..., 0, 0, 0], dtype=uint8),\n",
       " 'Neighborhood_SawyerW': array([1, 0, 0, ..., 0, 0, 0], dtype=uint8),\n",
       " 'Neighborhood_Somerst': array([0, 0, 1, ..., 0, 1, 0], dtype=uint8),\n",
       " 'Neighborhood_StoneBr': array([0, 0, 0, ..., 0, 0, 0], dtype=uint8),\n",
       " 'Neighborhood_Timber': array([0, 0, 0, ..., 0, 0, 0], dtype=uint8),\n",
       " 'Neighborhood_Veenker': array([0, 0, 0, ..., 0, 0, 0], dtype=uint8),\n",
       " 'Condition1_Artery': array([0, 0, 0, ..., 0, 0, 0], dtype=uint8),\n",
       " 'Condition1_Feedr': array([0, 0, 0, ..., 0, 0, 1], dtype=uint8),\n",
       " 'Condition1_Norm': array([1, 1, 1, ..., 1, 1, 0], dtype=uint8),\n",
       " 'Condition1_PosA': array([0, 0, 0, ..., 0, 0, 0], dtype=uint8),\n",
       " 'Condition1_PosN': array([0, 0, 0, ..., 0, 0, 0], dtype=uint8),\n",
       " 'Condition1_RRAe': array([0, 0, 0, ..., 0, 0, 0], dtype=uint8),\n",
       " 'Condition1_RRAn': array([0, 0, 0, ..., 0, 0, 0], dtype=uint8),\n",
       " 'Condition1_RRNe': array([0, 0, 0, ..., 0, 0, 0], dtype=uint8),\n",
       " 'Condition1_RRNn': array([0, 0, 0, ..., 0, 0, 0], dtype=uint8),\n",
       " 'Condition2_Artery': array([0, 0, 0, ..., 0, 0, 0], dtype=uint8),\n",
       " 'Condition2_Feedr': array([0, 0, 0, ..., 0, 0, 0], dtype=uint8),\n",
       " 'Condition2_Norm': array([1, 1, 1, ..., 1, 1, 1], dtype=uint8),\n",
       " 'Condition2_PosA': array([0, 0, 0, ..., 0, 0, 0], dtype=uint8),\n",
       " 'Condition2_PosN': array([0, 0, 0, ..., 0, 0, 0], dtype=uint8),\n",
       " 'Condition2_RRAe': array([0, 0, 0, ..., 0, 0, 0], dtype=uint8),\n",
       " 'Condition2_RRAn': array([0, 0, 0, ..., 0, 0, 0], dtype=uint8),\n",
       " 'Condition2_RRNn': array([0, 0, 0, ..., 0, 0, 0], dtype=uint8),\n",
       " 'BldgType_1Fam': array([1, 0, 1, ..., 1, 1, 1], dtype=uint8),\n",
       " 'BldgType_2fmCon': array([0, 0, 0, ..., 0, 0, 0], dtype=uint8),\n",
       " 'BldgType_Duplex': array([0, 0, 0, ..., 0, 0, 0], dtype=uint8),\n",
       " 'BldgType_Twnhs': array([0, 1, 0, ..., 0, 0, 0], dtype=uint8),\n",
       " 'BldgType_TwnhsE': array([0, 0, 0, ..., 0, 0, 0], dtype=uint8),\n",
       " 'HouseStyle_1.5Fin': array([0, 0, 0, ..., 0, 0, 1], dtype=uint8),\n",
       " 'HouseStyle_1.5Unf': array([0, 0, 0, ..., 0, 0, 0], dtype=uint8),\n",
       " 'HouseStyle_1Story': array([0, 0, 1, ..., 1, 0, 0], dtype=uint8),\n",
       " 'HouseStyle_2.5Fin': array([0, 0, 0, ..., 0, 0, 0], dtype=uint8),\n",
       " 'HouseStyle_2.5Unf': array([0, 0, 0, ..., 0, 0, 0], dtype=uint8),\n",
       " 'HouseStyle_2Story': array([1, 1, 0, ..., 0, 1, 0], dtype=uint8),\n",
       " 'HouseStyle_SFoyer': array([0, 0, 0, ..., 0, 0, 0], dtype=uint8),\n",
       " 'HouseStyle_SLvl': array([0, 0, 0, ..., 0, 0, 0], dtype=uint8),\n",
       " 'RoofStyle_Flat': array([0, 0, 0, ..., 0, 0, 0], dtype=uint8),\n",
       " 'RoofStyle_Gable': array([1, 1, 1, ..., 1, 1, 1], dtype=uint8),\n",
       " 'RoofStyle_Gambrel': array([0, 0, 0, ..., 0, 0, 0], dtype=uint8),\n",
       " 'RoofStyle_Hip': array([0, 0, 0, ..., 0, 0, 0], dtype=uint8),\n",
       " 'RoofStyle_Mansard': array([0, 0, 0, ..., 0, 0, 0], dtype=uint8),\n",
       " 'RoofStyle_Shed': array([0, 0, 0, ..., 0, 0, 0], dtype=uint8),\n",
       " 'RoofMatl_ClyTile': array([0, 0, 0, ..., 0, 0, 0], dtype=uint8),\n",
       " 'RoofMatl_CompShg': array([1, 1, 1, ..., 1, 1, 1], dtype=uint8),\n",
       " 'RoofMatl_Membran': array([0, 0, 0, ..., 0, 0, 0], dtype=uint8),\n",
       " 'RoofMatl_Metal': array([0, 0, 0, ..., 0, 0, 0], dtype=uint8),\n",
       " 'RoofMatl_Roll': array([0, 0, 0, ..., 0, 0, 0], dtype=uint8),\n",
       " 'RoofMatl_Tar&Grv': array([0, 0, 0, ..., 0, 0, 0], dtype=uint8),\n",
       " 'RoofMatl_WdShake': array([0, 0, 0, ..., 0, 0, 0], dtype=uint8),\n",
       " 'RoofMatl_WdShngl': array([0, 0, 0, ..., 0, 0, 0], dtype=uint8),\n",
       " 'Exterior1st_AsbShng': array([0, 0, 0, ..., 0, 0, 0], dtype=uint8),\n",
       " 'Exterior1st_AsphShn': array([0, 0, 0, ..., 0, 0, 0], dtype=uint8),\n",
       " 'Exterior1st_BrkComm': array([0, 0, 0, ..., 0, 0, 0], dtype=uint8),\n",
       " 'Exterior1st_BrkFace': array([0, 0, 0, ..., 0, 0, 0], dtype=uint8),\n",
       " 'Exterior1st_CBlock': array([0, 0, 0, ..., 0, 0, 0], dtype=uint8),\n",
       " 'Exterior1st_CemntBd': array([0, 1, 0, ..., 0, 0, 0], dtype=uint8),\n",
       " 'Exterior1st_HdBoard': array([0, 0, 0, ..., 0, 0, 0], dtype=uint8),\n",
       " 'Exterior1st_ImStucc': array([0, 0, 0, ..., 0, 0, 0], dtype=uint8),\n",
       " 'Exterior1st_MetalSd': array([0, 0, 0, ..., 0, 0, 0], dtype=uint8),\n",
       " 'Exterior1st_Plywood': array([0, 0, 0, ..., 0, 0, 0], dtype=uint8),\n",
       " 'Exterior1st_Stone': array([0, 0, 0, ..., 0, 0, 0], dtype=uint8),\n",
       " 'Exterior1st_Stucco': array([0, 0, 0, ..., 0, 0, 0], dtype=uint8),\n",
       " 'Exterior1st_VinylSd': array([1, 0, 1, ..., 1, 1, 0], dtype=uint8),\n",
       " 'Exterior1st_Wd Sdng': array([0, 0, 0, ..., 0, 0, 1], dtype=uint8),\n",
       " 'Exterior1st_WdShing': array([0, 0, 0, ..., 0, 0, 0], dtype=uint8),\n",
       " 'Exterior2nd_AsbShng': array([0, 0, 0, ..., 0, 0, 0], dtype=uint8),\n",
       " 'Exterior2nd_AsphShn': array([0, 0, 0, ..., 0, 0, 0], dtype=uint8),\n",
       " 'Exterior2nd_Brk Cmn': array([0, 0, 0, ..., 0, 0, 0], dtype=uint8),\n",
       " 'Exterior2nd_BrkFace': array([0, 0, 0, ..., 0, 0, 0], dtype=uint8),\n",
       " 'Exterior2nd_CBlock': array([0, 0, 0, ..., 0, 0, 0], dtype=uint8),\n",
       " 'Exterior2nd_CmentBd': array([0, 1, 0, ..., 0, 0, 0], dtype=uint8),\n",
       " 'Exterior2nd_HdBoard': array([0, 0, 0, ..., 0, 0, 0], dtype=uint8),\n",
       " 'Exterior2nd_ImStucc': array([0, 0, 0, ..., 0, 0, 0], dtype=uint8),\n",
       " 'Exterior2nd_MetalSd': array([0, 0, 0, ..., 0, 0, 0], dtype=uint8),\n",
       " 'Exterior2nd_Other': array([0, 0, 0, ..., 0, 0, 0], dtype=uint8),\n",
       " 'Exterior2nd_Plywood': array([0, 0, 0, ..., 0, 0, 0], dtype=uint8),\n",
       " 'Exterior2nd_Stone': array([0, 0, 0, ..., 0, 0, 0], dtype=uint8),\n",
       " 'Exterior2nd_Stucco': array([0, 0, 0, ..., 0, 0, 0], dtype=uint8),\n",
       " 'Exterior2nd_VinylSd': array([1, 0, 1, ..., 1, 1, 0], dtype=uint8),\n",
       " 'Exterior2nd_Wd Sdng': array([0, 0, 0, ..., 0, 0, 0], dtype=uint8),\n",
       " 'Exterior2nd_Wd Shng': array([0, 0, 0, ..., 0, 0, 1], dtype=uint8),\n",
       " 'MasVnrType_BrkCmn': array([0, 0, 0, ..., 0, 0, 0], dtype=uint8),\n",
       " 'MasVnrType_BrkFace': array([0, 1, 0, ..., 1, 0, 0], dtype=uint8),\n",
       " 'MasVnrType_None': array([1, 0, 0, ..., 0, 1, 1], dtype=uint8),\n",
       " 'MasVnrType_Stone': array([0, 0, 1, ..., 0, 0, 0], dtype=uint8),\n",
       " 'MasVnrArea': array([  0., 236.,  68., ..., 226.,   0.,   0.]),\n",
       " 'ExterQual': array([4, 3, 4, ..., 4, 4, 3]),\n",
       " 'ExterCond': array([4, 3, 3, ..., 3, 3, 3]),\n",
       " 'Foundation_BrkTil': array([0, 0, 0, ..., 0, 0, 0], dtype=uint8),\n",
       " 'Foundation_CBlock': array([0, 1, 0, ..., 0, 0, 0], dtype=uint8),\n",
       " 'Foundation_PConc': array([1, 0, 1, ..., 1, 1, 1], dtype=uint8),\n",
       " 'Foundation_Slab': array([0, 0, 0, ..., 0, 0, 0], dtype=uint8),\n",
       " 'Foundation_Stone': array([0, 0, 0, ..., 0, 0, 0], dtype=uint8),\n",
       " 'Foundation_Wood': array([0, 0, 0, ..., 0, 0, 0], dtype=uint8),\n",
       " 'BsmtQual': array([4., 3., 4., ..., 4., 4., 3.]),\n",
       " 'BsmtCond': array([3., 3., 3., ..., 3., 3., 3.]),\n",
       " 'BsmtExposure': array([1., 1., 1., ..., 2., 1., 1.]),\n",
       " 'BsmtFinType1_ALQ': array([1, 0, 0, ..., 0, 0, 0], dtype=uint8),\n",
       " 'BsmtFinType1_BLQ': array([0, 0, 0, ..., 1, 0, 0], dtype=uint8),\n",
       " 'BsmtFinType1_GLQ': array([0, 0, 1, ..., 0, 1, 0], dtype=uint8),\n",
       " 'BsmtFinType1_LwQ': array([0, 0, 0, ..., 0, 0, 0], dtype=uint8),\n",
       " 'BsmtFinType1_Rec': array([0, 0, 0, ..., 0, 0, 0], dtype=uint8),\n",
       " 'BsmtFinType1_Unf': array([0, 1, 0, ..., 0, 0, 1], dtype=uint8),\n",
       " 'BsmtFinSF1': array([ 387,    0,  905, ..., 1201,  222,    0]),\n",
       " 'BsmtFinType2_ALQ': array([0, 0, 0, ..., 0, 0, 0], dtype=uint8),\n",
       " 'BsmtFinType2_BLQ': array([0, 0, 0, ..., 0, 0, 0], dtype=uint8),\n",
       " 'BsmtFinType2_GLQ': array([0, 0, 0, ..., 0, 0, 0], dtype=uint8),\n",
       " 'BsmtFinType2_LwQ': array([0, 0, 0, ..., 0, 0, 0], dtype=uint8),\n",
       " 'BsmtFinType2_Rec': array([0, 0, 0, ..., 0, 0, 0], dtype=uint8),\n",
       " 'BsmtFinType2_Unf': array([1, 1, 1, ..., 1, 1, 1], dtype=uint8),\n",
       " 'BsmtFinSF2': array([0, 0, 0, ..., 0, 0, 0]),\n",
       " 'BsmtUnfSF': array([374, 672, 357, ..., 340, 769, 804]),\n",
       " 'TotalBsmtSF': array([ 761,  672, 1262, ..., 1541,  991,  804]),\n",
       " 'Heating_Floor': array([0, 0, 0, ..., 0, 0, 0], dtype=uint8),\n",
       " 'Heating_GasA': array([1, 1, 1, ..., 1, 1, 1], dtype=uint8),\n",
       " 'Heating_GasW': array([0, 0, 0, ..., 0, 0, 0], dtype=uint8),\n",
       " 'Heating_Grav': array([0, 0, 0, ..., 0, 0, 0], dtype=uint8),\n",
       " 'Heating_OthW': array([0, 0, 0, ..., 0, 0, 0], dtype=uint8),\n",
       " 'Heating_Wall': array([0, 0, 0, ..., 0, 0, 0], dtype=uint8),\n",
       " 'CentralAir_N': array([0, 0, 0, ..., 0, 0, 0], dtype=uint8),\n",
       " 'CentralAir_Y': array([1, 1, 1, ..., 1, 1, 1], dtype=uint8),\n",
       " 'Electrical_FuseA': array([0, 0, 0, ..., 0, 0, 0], dtype=uint8),\n",
       " 'Electrical_FuseF': array([0, 0, 0, ..., 0, 0, 0], dtype=uint8),\n",
       " 'Electrical_FuseP': array([0, 0, 0, ..., 0, 0, 0], dtype=uint8),\n",
       " 'Electrical_Mix': array([0, 0, 0, ..., 0, 0, 0], dtype=uint8),\n",
       " 'Electrical_SBrkr': array([1, 1, 1, ..., 1, 1, 1], dtype=uint8),\n",
       " '1stFlrSF': array([ 810,  672, 1262, ..., 1541,  991, 1699]),\n",
       " '2ndFlrSF': array([793, 546,   0, ...,   0, 956, 748]),\n",
       " 'LowQualFinSF': array([0, 0, 0, ..., 0, 0, 0]),\n",
       " 'GrLivArea': array([1603, 1218, 1262, ..., 1541, 1947, 2447]),\n",
       " 'BsmtFullBath': array([0, 0, 0, ..., 0, 0, 0]),\n",
       " 'BsmtHalfBath': array([0, 0, 0, ..., 0, 0, 0]),\n",
       " 'FullBath': array([2, 1, 2, ..., 2, 2, 2]),\n",
       " 'HalfBath': array([1, 1, 0, ..., 0, 1, 0]),\n",
       " 'BedroomAbvGr': array([3, 3, 2, ..., 3, 3, 4]),\n",
       " 'KitchenAbvGr': array([1, 1, 1, ..., 1, 1, 1]),\n",
       " 'KitchenQual_Ex': array([0, 0, 0, ..., 0, 0, 0], dtype=uint8),\n",
       " 'KitchenQual_Fa': array([0, 0, 0, ..., 0, 0, 0], dtype=uint8),\n",
       " 'KitchenQual_Gd': array([1, 0, 1, ..., 1, 1, 1], dtype=uint8),\n",
       " 'KitchenQual_TA': array([0, 1, 0, ..., 0, 0, 0], dtype=uint8),\n",
       " 'TotRmsAbvGrd': array([ 7,  7,  5, ...,  7,  8, 10]),\n",
       " 'Functional_Maj1': array([0, 0, 0, ..., 0, 0, 0], dtype=uint8),\n",
       " 'Functional_Maj2': array([0, 0, 0, ..., 0, 0, 0], dtype=uint8),\n",
       " 'Functional_Min1': array([0, 0, 0, ..., 0, 0, 0], dtype=uint8),\n",
       " 'Functional_Min2': array([0, 0, 0, ..., 0, 0, 1], dtype=uint8),\n",
       " 'Functional_Mod': array([0, 0, 0, ..., 0, 0, 0], dtype=uint8),\n",
       " 'Functional_Sev': array([0, 0, 0, ..., 0, 0, 0], dtype=uint8),\n",
       " 'Functional_Typ': array([1, 1, 1, ..., 1, 1, 0], dtype=uint8),\n",
       " 'Fireplaces': array([0, 0, 0, ..., 1, 1, 1]),\n",
       " 'FireplaceQu_Ex': array([0, 0, 0, ..., 0, 0, 0], dtype=uint8),\n",
       " 'FireplaceQu_Fa': array([0, 0, 0, ..., 0, 0, 0], dtype=uint8),\n",
       " 'FireplaceQu_Gd': array([0, 0, 0, ..., 1, 1, 1], dtype=uint8),\n",
       " 'FireplaceQu_Po': array([0, 0, 0, ..., 0, 0, 0], dtype=uint8),\n",
       " 'FireplaceQu_TA': array([0, 0, 0, ..., 0, 0, 0], dtype=uint8),\n",
       " 'GarageType_2Types': array([0, 0, 0, ..., 0, 0, 0], dtype=uint8),\n",
       " 'GarageType_Attchd': array([1, 0, 1, ..., 1, 1, 0], dtype=uint8),\n",
       " 'GarageType_Basment': array([0, 0, 0, ..., 0, 0, 0], dtype=uint8),\n",
       " 'GarageType_BuiltIn': array([0, 0, 0, ..., 0, 0, 0], dtype=uint8),\n",
       " 'GarageType_CarPort': array([0, 0, 0, ..., 0, 0, 0], dtype=uint8),\n",
       " 'GarageType_Detchd': array([0, 0, 0, ..., 0, 0, 1], dtype=uint8),\n",
       " 'GarageYrBlt': array([1992., 1980., 2006., ..., 2005., 2004., 1969.]),\n",
       " 'GarageFinish_Fin': array([0, 0, 1, ..., 0, 0, 0], dtype=uint8),\n",
       " 'GarageFinish_RFn': array([1, 0, 0, ..., 1, 1, 0], dtype=uint8),\n",
       " 'GarageFinish_Unf': array([0, 0, 0, ..., 0, 0, 1], dtype=uint8),\n",
       " 'GarageCars': array([2, 0, 2, ..., 2, 2, 1]),\n",
       " 'GarageArea': array([484,   0, 572, ..., 532, 678, 336]),\n",
       " 'GarageQual': array([ 3., nan,  3., ...,  3.,  3.,  3.]),\n",
       " 'GarageCond': array([ 3., nan,  3., ...,  3.,  3.,  3.]),\n",
       " 'PavedDrive_N': array([0, 1, 0, ..., 0, 0, 0], dtype=uint8),\n",
       " 'PavedDrive_P': array([0, 0, 0, ..., 0, 0, 0], dtype=uint8),\n",
       " 'PavedDrive_Y': array([1, 0, 1, ..., 1, 1, 1], dtype=uint8),\n",
       " 'WoodDeckSF': array([  0, 201,   0, ...,   0,   0, 272]),\n",
       " 'OpenPorchSF': array([124,   0, 120, ...,  70, 136,   0]),\n",
       " 'EnclosedPorch': array([ 0,  0,  0, ...,  0,  0, 42]),\n",
       " '3SsnPorch': array([0, 0, 0, ..., 0, 0, 0]),\n",
       " 'ScreenPorch': array([  0,   0,   0, ...,   0,   0, 116]),\n",
       " 'PoolArea': array([0, 0, 0, ..., 0, 0, 0]),\n",
       " 'PoolQC': array([nan, nan, nan, ..., nan, nan, nan]),\n",
       " 'Fence_GdPrv': array([0, 0, 0, ..., 0, 0, 0], dtype=uint8),\n",
       " 'Fence_GdWo': array([0, 0, 0, ..., 0, 1, 0], dtype=uint8),\n",
       " 'Fence_MnPrv': array([0, 0, 0, ..., 0, 0, 0], dtype=uint8),\n",
       " 'Fence_MnWw': array([0, 0, 0, ..., 0, 0, 0], dtype=uint8),\n",
       " 'MiscFeature_Gar2': array([0, 0, 0, ..., 0, 0, 0], dtype=uint8),\n",
       " 'MiscFeature_Othr': array([0, 0, 0, ..., 0, 0, 0], dtype=uint8),\n",
       " 'MiscFeature_Shed': array([0, 0, 0, ..., 0, 0, 0], dtype=uint8),\n",
       " 'MiscFeature_TenC': array([0, 0, 0, ..., 0, 0, 0], dtype=uint8),\n",
       " 'MiscVal': array([0, 0, 0, ..., 0, 0, 0]),\n",
       " 'MoSold': array([7, 4, 5, ..., 5, 5, 3]),\n",
       " 'YrSold': array([2006, 2006, 2006, ..., 2010, 2010, 2010]),\n",
       " 'SaleType_COD': array([0, 0, 0, ..., 0, 0, 0], dtype=uint8),\n",
       " 'SaleType_CWD': array([0, 0, 0, ..., 0, 0, 0], dtype=uint8),\n",
       " 'SaleType_Con': array([0, 0, 0, ..., 0, 0, 0], dtype=uint8),\n",
       " 'SaleType_ConLD': array([0, 0, 0, ..., 0, 0, 0], dtype=uint8),\n",
       " 'SaleType_ConLI': array([0, 0, 0, ..., 0, 0, 0], dtype=uint8),\n",
       " 'SaleType_ConLw': array([0, 0, 0, ..., 0, 0, 0], dtype=uint8),\n",
       " 'SaleType_New': array([0, 0, 1, ..., 1, 0, 0], dtype=uint8),\n",
       " 'SaleType_Oth': array([0, 0, 0, ..., 0, 0, 0], dtype=uint8),\n",
       " 'SaleType_WD': array([1, 1, 0, ..., 0, 1, 1], dtype=uint8),\n",
       " 'SaleCondition_Abnorml': array([0, 1, 0, ..., 0, 0, 0], dtype=uint8),\n",
       " 'SaleCondition_AdjLand': array([0, 0, 0, ..., 0, 0, 0], dtype=uint8),\n",
       " 'SaleCondition_Alloca': array([0, 0, 0, ..., 0, 0, 0], dtype=uint8),\n",
       " 'SaleCondition_Family': array([0, 0, 0, ..., 0, 0, 0], dtype=uint8),\n",
       " 'SaleCondition_Normal': array([1, 0, 0, ..., 0, 1, 1], dtype=uint8),\n",
       " 'SaleCondition_Partial': array([0, 0, 1, ..., 1, 0, 0], dtype=uint8)}"
      ]
     },
     "metadata": {},
     "execution_count": 13
    }
   ],
   "source": [
    "new_data"
   ]
  },
  {
   "cell_type": "code",
   "execution_count": 22,
   "metadata": {},
   "outputs": [
    {
     "output_type": "execute_result",
     "data": {
      "text/plain": [
       "array([2006, 2006, 2006, ..., 2010, 2010, 2010])"
      ]
     },
     "metadata": {},
     "execution_count": 22
    }
   ],
   "source": [
    "new_data['YrSold']"
   ]
  },
  {
   "cell_type": "code",
   "execution_count": 96,
   "metadata": {},
   "outputs": [
    {
     "data": {
      "text/plain": [
       "array([1992., 1980., 2006., ..., 2005., 2004., 1969.])"
      ]
     },
     "execution_count": 96,
     "metadata": {},
     "output_type": "execute_result"
    }
   ],
   "source": []
  },
  {
   "cell_type": "code",
   "execution_count": null,
   "metadata": {},
   "outputs": [],
   "source": []
  }
 ],
 "metadata": {
  "kernelspec": {
   "display_name": "Python 3",
   "language": "python",
   "name": "python3"
  },
  "language_info": {
   "codemirror_mode": {
    "name": "ipython",
    "version": 3
   },
   "file_extension": ".py",
   "mimetype": "text/x-python",
   "name": "python",
   "nbconvert_exporter": "python",
   "pygments_lexer": "ipython3",
   "version": "3.7.3-final"
  }
 },
 "nbformat": 4,
 "nbformat_minor": 4
}